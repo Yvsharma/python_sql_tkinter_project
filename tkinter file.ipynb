{
 "cells": [
  {
   "cell_type": "code",
   "execution_count": 2,
   "id": "af117ef7",
   "metadata": {},
   "outputs": [],
   "source": [
    "from tkinter import *\n",
    " \n",
    "root = Tk()\n",
    "root.title ('Entry window')\n",
    "root.geometry(\"600x300\")\n",
    "root.configure(bg= 'Sky blue')\n",
    "\n",
    "rn=Label(root,text='Roll No.')\n",
    "rn.place(x=200,y=40)\n",
    "\n",
    "fn=Label(root,text='First name')\n",
    "fn.place(x=200,y=80)\n",
    "\n",
    "ln=Label(root,text='Last name')\n",
    "ln.place(x=200,y=120)\n",
    "\n",
    "em=Label(root,text='Email ID')\n",
    "em.place(x=200,y=160)\n",
    "\n",
    "mo=Label(root,text='Mobile no.')\n",
    "mo.place(x=200,y=200)\n",
    "\n",
    "ern=Entry()\n",
    "ern.place(x=300,y=40)\n",
    "\n",
    "efn=Entry()\n",
    "efn.place(x=300,y=80)\n",
    "\n",
    "eln=Entry()\n",
    "eln.place(x=300,y=120)\n",
    "\n",
    "eem=Entry()\n",
    "eem.place(x=300,y=160)\n",
    "\n",
    "emo=Entry()\n",
    "emo.place(x=300,y=200)\n",
    "\n",
    "\n",
    "button1 = Button(root,text='Save',bg='Green')\n",
    "button1.place(x=200, y=250)\n",
    "\n",
    "button2 = Button(root,text='Cancel',bg='Red')\n",
    "button2.place(x=300, y=250)\n",
    "\n",
    "mainloop()"
   ]
  },
  {
   "cell_type": "code",
   "execution_count": null,
   "id": "60101e10",
   "metadata": {},
   "outputs": [],
   "source": []
  }
 ],
 "metadata": {
  "kernelspec": {
   "display_name": "Python 3 (ipykernel)",
   "language": "python",
   "name": "python3"
  },
  "language_info": {
   "codemirror_mode": {
    "name": "ipython",
    "version": 3
   },
   "file_extension": ".py",
   "mimetype": "text/x-python",
   "name": "python",
   "nbconvert_exporter": "python",
   "pygments_lexer": "ipython3",
   "version": "3.9.12"
  }
 },
 "nbformat": 4,
 "nbformat_minor": 5
}
